{
  "nbformat": 4,
  "nbformat_minor": 0,
  "metadata": {
    "colab": {
      "provenance": [],
      "gpuType": "T4"
    },
    "kernelspec": {
      "name": "python3",
      "display_name": "Python 3"
    },
    "language_info": {
      "name": "python"
    },
    "accelerator": "GPU"
  },
  "cells": [
    {
      "cell_type": "code",
      "execution_count": 1,
      "metadata": {
        "id": "6UVh9TyQY9Tk"
      },
      "outputs": [],
      "source": []
    },
    {
      "cell_type": "code",
      "source": [
        "import numpy as np\n",
        "import pandas as pd\n",
        "from sklearn.model_selection import GridSearchCV, train_test_split\n",
        "from sklearn.metrics import roc_auc_score\n",
        "from xgboost import XGBClassifier\n",
        "from collections import Counter\n",
        "\n",
        "# Load the training dataset\n",
        "dataset = pd.read_csv('creditcard.csv')\n",
        "\n",
        "# Drop the \"Time\" column\n",
        "dataset = dataset.drop('Time', axis=1)\n",
        "\n",
        "# Split into input and output elements\n",
        "X, y = dataset.values[:,:-1], dataset.values[:,-1]\n",
        "\n",
        "# Print key information about the dataset\n",
        "print(f\"Dataset shape: {X.shape}\")\n",
        "print(f\"Input features: {dataset.columns[:-1]}\")\n",
        "print(f\"Target variable: {dataset.columns[-1]}\")\n",
        "print(f\"Class distributions: {Counter(y)}\")\n"
      ],
      "metadata": {
        "colab": {
          "base_uri": "https://localhost:8080/"
        },
        "id": "oiuZjpKoY966",
        "outputId": "ffc4d59e-2ea9-4aa0-84ca-b363e960eccf"
      },
      "execution_count": 2,
      "outputs": [
        {
          "output_type": "stream",
          "name": "stdout",
          "text": [
            "Dataset shape: (284807, 29)\n",
            "Input features: Index(['V1', 'V2', 'V3', 'V4', 'V5', 'V6', 'V7', 'V8', 'V9', 'V10', 'V11',\n",
            "       'V12', 'V13', 'V14', 'V15', 'V16', 'V17', 'V18', 'V19', 'V20', 'V21',\n",
            "       'V22', 'V23', 'V24', 'V25', 'V26', 'V27', 'V28', 'Amount'],\n",
            "      dtype='object')\n",
            "Target variable: Class\n",
            "Class distributions: Counter({np.float64(0.0): 284315, np.float64(1.0): 492})\n"
          ]
        }
      ]
    },
    {
      "cell_type": "code",
      "source": [
        "\n",
        "# Split into train and validation sets\n",
        "X_train, X_valid, y_train, y_valid = train_test_split(X, y, test_size=0.2, random_state=42, stratify=y)\n"
      ],
      "metadata": {
        "id": "knCYU-KxY91S"
      },
      "execution_count": 3,
      "outputs": []
    },
    {
      "cell_type": "code",
      "source": [
        "\n",
        "# Define parameter grid\n",
        "param_grid = {\n",
        "    'max_depth': [3, 4, 5],\n",
        "    'learning_rate': [0.1, 0.01, 0.05],\n",
        "    'n_estimators': [100, 200, 300],\n",
        "    'subsample': [0.8, 1.0],\n",
        "    'colsample_bytree': [0.8, 1.0]\n",
        "}\n",
        "\n",
        "# Compute the positive class weight\n",
        "class_weight = (len(y_train) - np.sum(y_train)) / np.sum(y_train)\n",
        "\n",
        "# Create XGBClassifier\n",
        "model = XGBClassifier(objective='binary:logistic', scale_pos_weight=class_weight, tree_method='hist', random_state=42, n_jobs=2)\n",
        "\n",
        "# Perform grid search\n",
        "grid_search = GridSearchCV(estimator=model, param_grid=param_grid, scoring='roc_auc', cv=3, n_jobs=4, pre_dispatch=4)\n",
        "grid_search.fit(X_train, y_train)\n",
        "\n",
        "# Print best score and parameters\n",
        "print(f\"Best score: {grid_search.best_score_:.3f}\")\n",
        "print(f\"Best parameters: {grid_search.best_params_}\")\n"
      ],
      "metadata": {
        "colab": {
          "base_uri": "https://localhost:8080/"
        },
        "id": "Z9lKHpElY9ye",
        "outputId": "80aa1f7e-e23d-4f74-bdcf-4b0e832e1751"
      },
      "execution_count": 4,
      "outputs": [
        {
          "output_type": "stream",
          "name": "stdout",
          "text": [
            "Best score: 0.983\n",
            "Best parameters: {'colsample_bytree': 0.8, 'learning_rate': 0.01, 'max_depth': 4, 'n_estimators': 200, 'subsample': 0.8}\n"
          ]
        }
      ]
    },
    {
      "cell_type": "code",
      "source": [
        "\n",
        "# Access best model\n",
        "best_model = grid_search.best_estimator_\n",
        "\n",
        "# Save best model\n",
        "best_model.save_model('best_model_creditcard.ubj')\n"
      ],
      "metadata": {
        "id": "9-UhJcjpbKL7"
      },
      "execution_count": 5,
      "outputs": []
    },
    {
      "cell_type": "code",
      "source": [
        "\n",
        "# Load saved model\n",
        "loaded_model = XGBClassifier()\n",
        "loaded_model.load_model('best_model_creditcard.ubj')\n",
        "\n",
        "# Use loaded model for predictions\n",
        "predictions = loaded_model.predict(X_valid)\n"
      ],
      "metadata": {
        "id": "swtKRz81bKGv"
      },
      "execution_count": 6,
      "outputs": []
    },
    {
      "cell_type": "code",
      "source": [
        "\n",
        "# Print roc auc score\n",
        "rocauc = roc_auc_score(y_valid, predictions)\n",
        "print(f\"ROC AUC: {rocauc:.3f}\")"
      ],
      "metadata": {
        "colab": {
          "base_uri": "https://localhost:8080/"
        },
        "id": "8vSv6fOVbKD6",
        "outputId": "ca6a4560-748e-493b-d02c-f5c2963c2cbf"
      },
      "execution_count": 7,
      "outputs": [
        {
          "output_type": "stream",
          "name": "stdout",
          "text": [
            "ROC AUC: 0.934\n"
          ]
        }
      ]
    },
    {
      "cell_type": "code",
      "source": [],
      "metadata": {
        "id": "UMT8dkmUbKBI"
      },
      "execution_count": 7,
      "outputs": []
    },
    {
      "cell_type": "code",
      "source": [],
      "metadata": {
        "id": "2-sloCBaY9vq"
      },
      "execution_count": 7,
      "outputs": []
    }
  ]
}